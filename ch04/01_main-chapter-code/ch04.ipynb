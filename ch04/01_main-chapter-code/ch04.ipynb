{
 "cells": [
  {
   "cell_type": "code",
   "execution_count": 1,
   "metadata": {},
   "outputs": [
    {
     "name": "stdout",
     "output_type": "stream",
     "text": [
      "matplotlib version: 3.10.0\n",
      "torch version: 2.5.1\n",
      "tiktoken version: 0.8.0\n"
     ]
    }
   ],
   "source": [
    "from importlib.metadata import version\n",
    "\n",
    "import matplotlib\n",
    "import tiktoken\n",
    "import torch\n",
    "\n",
    "print(\"matplotlib version:\", version(\"matplotlib\"))\n",
    "print(\"torch version:\", version(\"torch\"))\n",
    "print(\"tiktoken version:\", version(\"tiktoken\"))"
   ]
  },
  {
   "cell_type": "code",
   "execution_count": 2,
   "metadata": {},
   "outputs": [],
   "source": [
    "GPT_CONFIG_124M = {\n",
    "  \"vocab_size\":50257 ,\n",
    "  \"context_length\":1024,\n",
    "  \"emb_dim\":768,\n",
    "  \"n_heads\":12,\n",
    "  \"n_layers\":12,\n",
    "  \"drop_rate\":0.1,\n",
    "  \"qkv_bias\":False\n",
    "}"
   ]
  },
  {
   "cell_type": "code",
   "execution_count": 3,
   "metadata": {},
   "outputs": [],
   "source": [
    "import torch \n",
    "import torch.nn as nn \n",
    "\n",
    "class DummyGPTModel(nn.Module):\n",
    "  def __init__(self, cfg):\n",
    "      super().__init__()\n",
    "      self.tok_emb = nn.Embedding(cfg[\"vocab_size\"], cfg[\"emb_dim\"])\n",
    "      self.pos_emb = nn.Embedding(cfg[\"context_length\"], cfg[\"emb_dim\"])\n",
    "      self.drop_emb = nn.Dropout(cfg[\"drop_rate\"])\n",
    "      \n",
    "      # Use a placeholder for TransformerBlock\n",
    "      self.trf_blocks = nn.Sequential(\n",
    "          *[DummyTransformerBlock(cfg) for _ in range(cfg[\"n_layers\"])])\n",
    "      \n",
    "      # Use a placeholder for LayerNorm\n",
    "      self.final_norm = DummyLayerNorm(cfg[\"emb_dim\"])\n",
    "      self.out_head = nn.Linear(\n",
    "          cfg[\"emb_dim\"], cfg[\"vocab_size\"], bias=False\n",
    "      )\n",
    "\n",
    "  def forward(self, in_idx):\n",
    "      batch_size, seq_len = in_idx.shape\n",
    "      tok_embeds = self.tok_emb(in_idx)\n",
    "      pos_embeds = self.pos_emb(torch.arange(seq_len, device=in_idx.device))\n",
    "      x = tok_embeds + pos_embeds\n",
    "      x = self.drop_emb(x)\n",
    "      x = self.trf_blocks(x)\n",
    "      x = self.final_norm(x)\n",
    "      logits = self.out_head(x)\n",
    "      return logits\n",
    "    \n",
    "\n",
    "\n",
    "class DummyTransformerBlock(nn.Module):\n",
    "  def __init__(self , cfg):\n",
    "    super().__init__() \n",
    "  def forward(self , x):\n",
    "    return x \n",
    "\n",
    "class DummyLayerNorm(nn.Module):\n",
    "  def __init__(self , normalized_shape,eps = 1e-5):\n",
    "    super().__init__() \n",
    "  def forward(self , x):\n",
    "    return x\n",
    "  \n",
    "    \n",
    "    "
   ]
  },
  {
   "cell_type": "code",
   "execution_count": 4,
   "metadata": {},
   "outputs": [
    {
     "data": {
      "text/plain": [
       "tensor([[6109, 3626, 6100,  345],\n",
       "        [6109, 1110, 6622,  257]])"
      ]
     },
     "execution_count": 4,
     "metadata": {},
     "output_type": "execute_result"
    }
   ],
   "source": [
    "import tiktoken \n",
    "tokenizer = tiktoken.get_encoding(\"gpt2\")\n",
    "\n",
    "batch = [] \n",
    "txt1 = \"Every effort moves you\" \n",
    "txt2 = \"Every day holds a\"\n",
    "\n",
    "batch.append(torch.tensor(tokenizer.encode(txt1)))\n",
    "batch.append(torch.tensor(tokenizer.encode(txt2)))\n",
    "batch = torch.stack(batch , dim = 0)\n",
    "batch"
   ]
  },
  {
   "cell_type": "code",
   "execution_count": 5,
   "metadata": {},
   "outputs": [
    {
     "data": {
      "text/plain": [
       "(torch.Size([2, 4, 50257]),\n",
       " tensor([[[-0.9289,  0.2748, -0.7557,  ..., -1.6070,  0.2702, -0.5888],\n",
       "          [-0.4476,  0.1726,  0.5354,  ..., -0.3932,  1.5285,  0.8557],\n",
       "          [ 0.5680,  1.6053, -0.2155,  ...,  1.1624,  0.1380,  0.7425],\n",
       "          [ 0.0447,  2.4787, -0.8843,  ...,  1.3219, -0.0864, -0.5856]],\n",
       " \n",
       "         [[-1.5474, -0.0542, -1.0571,  ..., -1.8061, -0.4494, -0.6747],\n",
       "          [-0.8422,  0.8243, -0.1098,  ..., -0.1434,  0.2079,  1.2046],\n",
       "          [ 0.1355,  1.1858, -0.1453,  ...,  0.0869, -0.1590,  0.1552],\n",
       "          [ 0.1666, -0.8138,  0.2307,  ...,  2.5035, -0.3055, -0.3083]]],\n",
       "        grad_fn=<UnsafeViewBackward0>))"
      ]
     },
     "execution_count": 5,
     "metadata": {},
     "output_type": "execute_result"
    }
   ],
   "source": [
    "torch.manual_seed(123)\n",
    "model = DummyGPTModel(GPT_CONFIG_124M)\n",
    "\n",
    "logits = model(batch)\n",
    "logits.shape , logits"
   ]
  },
  {
   "cell_type": "code",
   "execution_count": 6,
   "metadata": {},
   "outputs": [
    {
     "data": {
      "text/plain": [
       "tensor([[0.2260, 0.3470, 0.0000, 0.2216, 0.0000, 0.0000],\n",
       "        [0.2133, 0.2394, 0.0000, 0.5198, 0.3297, 0.0000]],\n",
       "       grad_fn=<ReluBackward0>)"
      ]
     },
     "execution_count": 6,
     "metadata": {},
     "output_type": "execute_result"
    }
   ],
   "source": [
    "torch.manual_seed(123)\n",
    "batch_example = torch.randn(2,5)\n",
    "\n",
    "layer = nn.Sequential(nn.Linear(5,6) , nn.ReLU())\n",
    "out = layer(batch_example)\n",
    "out"
   ]
  },
  {
   "cell_type": "code",
   "execution_count": 7,
   "metadata": {},
   "outputs": [
    {
     "data": {
      "text/plain": [
       "(tensor([[0.1324],\n",
       "         [0.2170]], grad_fn=<MeanBackward1>),\n",
       " tensor([[0.0231],\n",
       "         [0.0398]], grad_fn=<VarBackward0>))"
      ]
     },
     "execution_count": 7,
     "metadata": {},
     "output_type": "execute_result"
    }
   ],
   "source": [
    "mean = out.mean(dim = -1 , keepdim= True)\n",
    "var = out.var(dim = -1 , keepdim=  True)\n",
    "mean , var"
   ]
  },
  {
   "cell_type": "code",
   "execution_count": 8,
   "metadata": {},
   "outputs": [
    {
     "name": "stdout",
     "output_type": "stream",
     "text": [
      "Norm Mean : tensor([[9.9341e-09],\n",
      "        [5.9605e-08]], grad_fn=<MeanBackward1>)\n",
      "Norm Var : tensor([[1.0000],\n",
      "        [1.0000]], grad_fn=<VarBackward0>)\n"
     ]
    }
   ],
   "source": [
    "out_norm = (out - mean) / torch.sqrt(var)\n",
    "mean = out_norm.mean(dim = -1 , keepdim = True)\n",
    "print(f\"Norm Mean : { mean }\")\n",
    "var = out_norm.var(dim = -1 , keepdim = True)\n",
    "print(f\"Norm Var : {var}\")"
   ]
  },
  {
   "cell_type": "code",
   "execution_count": 9,
   "metadata": {},
   "outputs": [],
   "source": [
    "class LayerNorm(nn.Module):\n",
    "  def __init__(self ,emb_dim):\n",
    "    super().__init__() \n",
    "    self.eps = 1e-5 \n",
    "    self.scale = nn.Parameter(torch.ones(emb_dim))\n",
    "    self.shift = nn.Parameter(torch.zeros(emb_dim))\n",
    "  def forward(self , x) :\n",
    "    mean = x.mean(dim = -1 , keepdim = True)\n",
    "    var = x.var(dim = -1 , keepdim = True , unbiased = False)\n",
    "    norm_x = (x - mean) / torch.sqrt(var + self.eps)\n",
    "    return self.scale * norm_x + self.shift\n",
    "    "
   ]
  },
  {
   "cell_type": "code",
   "execution_count": 10,
   "metadata": {},
   "outputs": [
    {
     "data": {
      "text/plain": [
       "(tensor([[-2.9802e-08],\n",
       "         [ 0.0000e+00]], grad_fn=<MeanBackward1>),\n",
       " tensor([[1.0000],\n",
       "         [1.0000]], grad_fn=<VarBackward0>))"
      ]
     },
     "execution_count": 10,
     "metadata": {},
     "output_type": "execute_result"
    }
   ],
   "source": [
    "ln = LayerNorm (emb_dim = 5)\n",
    "out_ln = ln(batch_example)\n",
    "\n",
    "mean = out_ln.mean(dim = -1 , keepdim = True)\n",
    "var = out_ln.var(dim= -1 , unbiased = False , keepdim = True)\n",
    "\n",
    "mean , var"
   ]
  },
  {
   "cell_type": "markdown",
   "metadata": {},
   "source": [
    "## 4.3 Implementing a feed forward network with GELU activations"
   ]
  },
  {
   "cell_type": "code",
   "execution_count": 11,
   "metadata": {},
   "outputs": [],
   "source": [
    "class GELU(nn.Module):\n",
    "  def __init__(self):\n",
    "    super().__init__() \n",
    "  def forward(self , x) : \n",
    "    return 0.5 * x *(1 + torch.tanh(torch.sqrt(torch.tensor(2. / torch.pi)) * (x + 0.044715 * torch.pow(x , 2))))"
   ]
  },
  {
   "cell_type": "code",
   "execution_count": 12,
   "metadata": {},
   "outputs": [
    {
     "data": {
      "image/png": "[encoded data removed]",
      "text/plain": [
       "<Figure size 800x300 with 2 Axes>"
      ]
     },
     "metadata": {},
     "output_type": "display_data"
    }
   ],
   "source": [
    "import matplotlib.pyplot as plt \n",
    "\n",
    "gelu , relu = GELU()  , nn.ReLU() \n",
    "\n",
    "#Some sampel data \n",
    "x = torch.linspace(-3, 3 , 100)\n",
    "y_gelu , y_relu = gelu(x) , relu(x) \n",
    "\n",
    "plt.figure(figsize=(8,3))\n",
    "\n",
    "for i , (y , label) in enumerate(zip([y_gelu , y_relu] , [\"GELU\" , \"RELU\"]) , 1):\n",
    "  plt.subplot(1 , 2 ,i) \n",
    "  plt.plot(x , y) \n",
    "  plt.title(f\" { label } activaation function\")\n",
    "  plt.xlabel(\"x\")\n",
    "  plt.ylabel(f\"{label} (x)\")\n",
    "  plt.grid(True)\n",
    "plt.tight_layout()\n",
    "plt.show()\n"
   ]
  },
  {
   "cell_type": "code",
   "execution_count": 13,
   "metadata": {},
   "outputs": [],
   "source": [
    "class FeedForward(nn.Module):\n",
    "  def __init__(self , cfg):\n",
    "    super().__init__() \n",
    "    self.layers = nn.Sequential(nn.Linear(cfg[\"emb_dim\"] , 4 * cfg[\"emb_dim\"]), \n",
    "                                GELU(),\n",
    "                                nn.Linear(4 * cfg[\"emb_dim\"] , cfg[\"emb_dim\"])\n",
    "                                )\n",
    "  def forward(self , x):\n",
    "    return self.layers(x)"
   ]
  },
  {
   "cell_type": "code",
   "execution_count": 14,
   "metadata": {},
   "outputs": [
    {
     "data": {
      "text/plain": [
       "torch.Size([2, 3, 768])"
      ]
     },
     "execution_count": 14,
     "metadata": {},
     "output_type": "execute_result"
    }
   ],
   "source": [
    "ffn = FeedForward(GPT_CONFIG_124M) \n",
    "x = torch.rand(2,3,768) \n",
    "out = ffn(x) \n",
    "out.shape"
   ]
  },
  {
   "cell_type": "code",
   "execution_count": 15,
   "metadata": {},
   "outputs": [],
   "source": [
    "class ExampleDeepNeuralNetwork(nn.Module):\n",
    "  def __init__(self, layer_size , use_shortcut):\n",
    "    super().__init__() \n",
    "    self.use_shortcut = use_shortcut \n",
    "    self.layers = nn.ModuleList([nn.Sequential(nn.Linear(layer_size[0] ,  layer_size[1]) , GELU()) , \n",
    "                                 nn.Sequential(nn.Linear(layer_size[1] ,  layer_size[2]) , GELU()),\n",
    "                                 nn.Sequential(nn.Linear(layer_size[2] ,  layer_size[3]) , GELU()),\n",
    "                                 nn.Sequential(nn.Linear(layer_size[3] ,  layer_size[4]) , GELU()),\n",
    "                                 nn.Sequential(nn.Linear(layer_size[4] ,  layer_size[5]) , GELU())])\n",
    "  \n",
    "  def forward(self , x) :\n",
    "    for layer in self.layers: \n",
    "      layer_output = layer(x)\n",
    "      if self.use_shortcut and x.shape == layer_output.shape:\n",
    "        x = x + layer_output \n",
    "      else :\n",
    "        x = layer_output \n",
    "    return x"
   ]
  },
  {
   "cell_type": "code",
   "execution_count": 16,
   "metadata": {},
   "outputs": [],
   "source": [
    "def print_gradient(model , x):\n",
    "  #Forward pass \n",
    "  output = model(x)\n",
    "  target = torch.tensor([[0.]])\n",
    "  loss = nn.MSELoss()\n",
    "  loss = loss(output , target)\n",
    "  loss.backward() \n",
    "  print(f\"loss:{loss} \")\n",
    "  for name , param in model.named_parameters(): \n",
    "    if 'weight' in name :\n",
    "      print(f\"{name} has gradient mean of {param.grad.abs().mean().item()}\")"
   ]
  },
  {
   "cell_type": "code",
   "execution_count": 17,
   "metadata": {},
   "outputs": [
    {
     "name": "stdout",
     "output_type": "stream",
     "text": [
      "loss:0.0037232250906527042 \n",
      "layers.0.0.weight has gradient mean of 0.0002051283954642713\n",
      "layers.1.0.weight has gradient mean of 0.00012141212937422097\n",
      "layers.2.0.weight has gradient mean of 0.0007203090353868902\n",
      "layers.3.0.weight has gradient mean of 0.0014052821788936853\n",
      "layers.4.0.weight has gradient mean of 0.00506593007594347\n"
     ]
    }
   ],
   "source": [
    "layer_sizes = [3,3,3,3,3,1]\n",
    "sample_input = torch.tensor([[1.,0.,-1.]])\n",
    "torch.manual_seed(123)\n",
    "model_without_shortcut = ExampleDeepNeuralNetwork(layer_sizes , use_shortcut=False)\n",
    "print_gradient(model_without_shortcut , sample_input)"
   ]
  },
  {
   "cell_type": "code",
   "execution_count": null,
   "metadata": {},
   "outputs": [
    {
     "name": "stdout",
     "output_type": "stream",
     "text": [
      "loss:0.5838012099266052 \n",
      "layers.0.0.weight has gradient mean of 0.21908949315547943\n",
      "layers.1.0.weight has gradient mean of 0.20527346432209015\n",
      "layers.2.0.weight has gradient mean of 0.32109278440475464\n",
      "layers.3.0.weight has gradient mean of 0.26618868112564087\n",
      "layers.4.0.weight has gradient mean of 1.308449625968933\n"
     ]
    }
   ],
   "source": [
    "torch.manual_seed(123)\n",
    "model_with_shortcut = ExampleDeepNeuralNetwork(\n",
    " layer_sizes, use_shortcut=True\n",
    ")\n",
    "print_gradient(model_with_shortcut, sample_input)"
   ]
  },
  {
   "cell_type": "code",
   "execution_count": 19,
   "metadata": {},
   "outputs": [],
   "source": [
    "from previous_chapters import MultiHeadAttention \n",
    "\n",
    "class TransformerBlock(nn.Module):\n",
    "  def __init__(self, cfg):\n",
    "    super().__init__() \n",
    "    self.att = MultiHeadAttention(d_in = cfg[\"emb_dim\"] , \n",
    "                                  d_out=cfg[\"emb_dim\"] , \n",
    "                                  context_length = cfg[\"context_length\"],\n",
    "                                  num_heads = cfg[\"n_heads\"],\n",
    "                                  dropout = cfg[\"drop_rate\"] , \n",
    "                                  qkv_bias = cfg[\"qkv_bias\"])\n",
    "    self.ff = FeedForward(cfg)\n",
    "    self.norm1 = LayerNorm(cfg[\"emb_dim\"])\n",
    "    self.norm2 = LayerNorm(cfg[\"emb_dim\"])\n",
    "    self.drop_shortcut = nn.Dropout(cfg[\"drop_rate\"])\n",
    "  \n",
    "  def forward(self , x):\n",
    "    shortcut = x \n",
    "    x = self.norm1(x)\n",
    "    x = self.att(x)\n",
    "    x = self.drop_shortcut(x)\n",
    "    x = x + shortcut \n",
    "    \n",
    "    shortcut = x \n",
    "    x = self.norm2(x)\n",
    "    x = self.ff(x)\n",
    "    x = self.drop_shortcut(x)\n",
    "    x = x + shortcut \n",
    "    return x\n",
    "    \n",
    "    "
   ]
  },
  {
   "cell_type": "code",
   "execution_count": 20,
   "metadata": {},
   "outputs": [
    {
     "name": "stdout",
     "output_type": "stream",
     "text": [
      "Input shape: torch.Size([2, 4, 768])\n",
      "Output shape: torch.Size([2, 4, 768])\n"
     ]
    }
   ],
   "source": [
    "torch.manual_seed(123)\n",
    "\n",
    "x = torch.rand(2, 4, 768)  # Shape: [batch_size, num_tokens, emb_dim]\n",
    "block = TransformerBlock(GPT_CONFIG_124M)\n",
    "output = block(x)\n",
    "\n",
    "print(\"Input shape:\", x.shape)\n",
    "print(\"Output shape:\", output.shape)"
   ]
  },
  {
   "cell_type": "markdown",
   "metadata": {},
   "source": [
    "## 4.6 Coding the GPT model "
   ]
  },
  {
   "cell_type": "code",
   "execution_count": 21,
   "metadata": {},
   "outputs": [],
   "source": [
    "class GPTModel(nn.Module):\n",
    "  def __init__(self , cfg):\n",
    "    super().__init__() \n",
    "    self.tok_emb = nn.Embedding(cfg[\"vocab_size\"] , cfg[\"emb_dim\"])\n",
    "    self.pos_emb = nn.Embedding(cfg[\"context_length\"] , cfg[\"emb_dim\"])\n",
    "    self.drop_emb = nn.Dropout(cfg[\"drop_rate\"])\n",
    "    \n",
    "    self.trf_blocks = nn.Sequential(*[TransformerBlock(cfg) for _ in range(cfg[\"n_layers\"])])\n",
    "    self.final_norm = LayerNorm(cfg[\"emb_dim\"])\n",
    "    \n",
    "    self.out_head = nn.Linear(cfg[\"emb_dim\"] , cfg[\"vocab_size\"] , bias = False)\n",
    "    \n",
    "  def forward(self, in_idx):\n",
    "    batch_size , seq_len = in_idx.shape\n",
    "    tok_embeds = self.tok_emb(in_idx)\n",
    "    pos_embeds =  self.pos_emb(torch.arange(seq_len, device = in_idx.device) )\n",
    "    \n",
    "    x = tok_embeds + pos_embeds  \n",
    "    x = self.drop_emb(x)\n",
    "    x = self.trf_blocks(x)\n",
    "    x = self.final_norm(x)\n",
    "    logits = self.out_head(x)\n",
    "    return logits"
   ]
  },
  {
   "cell_type": "code",
   "execution_count": 22,
   "metadata": {},
   "outputs": [
    {
     "name": "stdout",
     "output_type": "stream",
     "text": [
      "Input batch :\n",
      " tensor([[6109, 3626, 6100,  345],\n",
      "        [6109, 1110, 6622,  257]])\n",
      "\n",
      "Output shape:  torch.Size([2, 4, 50257])\n"
     ]
    },
    {
     "data": {
      "text/plain": [
       "tensor([[[ 0.1465,  0.0060, -0.1983,  ..., -0.0181, -0.1072,  0.1738],\n",
       "         [ 0.3889, -0.8497, -0.6451,  ..., -0.5176,  0.2426, -0.3291],\n",
       "         [ 0.7039, -0.1876, -0.1647,  ...,  0.1533, -0.6497, -0.0068],\n",
       "         [-0.4326,  0.1618, -0.1276,  ...,  1.1563,  0.5361, -0.5506]],\n",
       "\n",
       "        [[ 0.1190, -0.2940, -0.1513,  ..., -0.0485,  0.2952, -0.2819],\n",
       "         [ 0.0933, -0.3584, -0.3508,  ...,  1.2934,  0.0025,  0.1912],\n",
       "         [ 0.6031,  0.4778, -0.4075,  ...,  0.7778,  0.3806, -0.1939],\n",
       "         [-0.0458, -0.0841,  0.4740,  ...,  1.2461, -0.3753,  0.0601]]],\n",
       "       grad_fn=<UnsafeViewBackward0>)"
      ]
     },
     "execution_count": 22,
     "metadata": {},
     "output_type": "execute_result"
    }
   ],
   "source": [
    "torch.manual_seed(123)\n",
    "model = GPTModel(GPT_CONFIG_124M)\n",
    "out  = model(batch)\n",
    "print(\"Input batch :\\n\" , batch)\n",
    "print(\"\\nOutput shape: \" , out.shape)\n",
    "out"
   ]
  },
  {
   "cell_type": "code",
   "execution_count": 23,
   "metadata": {},
   "outputs": [
    {
     "name": "stdout",
     "output_type": "stream",
     "text": [
      "Total number of parameters: 163,009,536\n"
     ]
    }
   ],
   "source": [
    "total_params = sum(p.numel() for p in model.parameters())\n",
    "print(f\"Total number of parameters: {total_params:,}\")"
   ]
  },
  {
   "cell_type": "code",
   "execution_count": 24,
   "metadata": {},
   "outputs": [
    {
     "name": "stdout",
     "output_type": "stream",
     "text": [
      "Token embedding layer shape: torch.Size([50257, 768])\n",
      "Output layer shape: torch.Size([50257, 768])\n"
     ]
    }
   ],
   "source": [
    "print(\"Token embedding layer shape:\", model.tok_emb.weight.shape)\n",
    "print(\"Output layer shape:\", model.out_head.weight.shape)"
   ]
  },
  {
   "cell_type": "code",
   "execution_count": 25,
   "metadata": {},
   "outputs": [
    {
     "name": "stdout",
     "output_type": "stream",
     "text": [
      "Number of trainable parameters considering weight tying: 124,412,160\n"
     ]
    }
   ],
   "source": [
    "total_params_gpt2 =  total_params - sum(p.numel() for p in model.out_head.parameters())\n",
    "print(f\"Number of trainable parameters considering weight tying: {total_params_gpt2:,}\")"
   ]
  },
  {
   "cell_type": "code",
   "execution_count": 26,
   "metadata": {},
   "outputs": [
    {
     "name": "stdout",
     "output_type": "stream",
     "text": [
      "Total size of the model :  621.83 MB\n"
     ]
    }
   ],
   "source": [
    "total_size_bytes = total_params * 4 \n",
    "total_size_mb = total_size_bytes / (1024 * 1024)\n",
    "print(f\"Total size of the model : {total_size_mb : .2f} MB\")"
   ]
  },
  {
   "cell_type": "markdown",
   "metadata": {},
   "source": [
    "## 4.8 Generateing Text"
   ]
  },
  {
   "cell_type": "code",
   "execution_count": 27,
   "metadata": {},
   "outputs": [],
   "source": [
    "def generate_text_simple(model , idx , max_new_tokens , context_size):\n",
    "  for _ in range(max_new_tokens):\n",
    "    idx_cond = idx[:, -context_size:]\n",
    "    with torch.no_grad():\n",
    "      logits = model(idx_cond)\n",
    "    logits = logits[: , -1 , :]\n",
    "    probas = torch.softmax(logits , dim = -1)\n",
    "    idx_next = torch.argmax(probas , dim= - 1, keepdim = True)\n",
    "    idx = torch.cat((idx , idx_next) , dim = 1)\n",
    "  return idx\n",
    "  "
   ]
  },
  {
   "cell_type": "code",
   "execution_count": 28,
   "metadata": {},
   "outputs": [
    {
     "name": "stdout",
     "output_type": "stream",
     "text": [
      "encoded: [15496, 11, 314, 716]\n",
      "encoded_tensor.shape: torch.Size([1, 4])\n"
     ]
    }
   ],
   "source": [
    "start_context = \"Hello, I am\"\n",
    "\n",
    "encoded = tokenizer.encode(start_context)\n",
    "print(\"encoded:\", encoded)\n",
    "\n",
    "encoded_tensor = torch.tensor(encoded).unsqueeze(0)\n",
    "print(\"encoded_tensor.shape:\", encoded_tensor.shape)"
   ]
  },
  {
   "cell_type": "code",
   "execution_count": 30,
   "metadata": {},
   "outputs": [
    {
     "name": "stdout",
     "output_type": "stream",
     "text": [
      "Output: tensor([[15496,    11,   314,   716, 27018, 24086, 47843, 30961, 42348,  7267]])\n",
      "Output length: 10\n",
      "Hello, I am Featureiman Byeswickattribute argue\n"
     ]
    }
   ],
   "source": [
    "model.eval() # disable dropout\n",
    "\n",
    "out = generate_text_simple(\n",
    "    model=model,\n",
    "    idx=encoded_tensor, \n",
    "    max_new_tokens=6, \n",
    "    context_size=GPT_CONFIG_124M[\"context_length\"]\n",
    ")\n",
    "\n",
    "print(\"Output:\", out)\n",
    "print(\"Output length:\", len(out[0]))\n",
    "\n",
    "decoded_text = tokenizer.decode(out.squeeze(0).tolist())\n",
    "print(decoded_text)"
   ]
  }
 ],
 "metadata": {
  "kernelspec": {
   "display_name": "build-llm",
   "language": "python",
   "name": "python3"
  },
  "language_info": {
   "codemirror_mode": {
    "name": "ipython",
    "version": 3
   },
   "file_extension": ".py",
   "mimetype": "text/x-python",
   "name": "python",
   "nbconvert_exporter": "python",
   "pygments_lexer": "ipython3",
   "version": "3.12.8"
  }
 },
 "nbformat": 4,
 "nbformat_minor": 2
}
