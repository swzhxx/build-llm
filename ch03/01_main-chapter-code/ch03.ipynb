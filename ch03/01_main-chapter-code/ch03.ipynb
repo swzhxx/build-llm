{
 "cells": [
  {
   "cell_type": "code",
   "execution_count": 93,
   "metadata": {},
   "outputs": [],
   "source": [
    "import torch\n",
    "inputs = torch.tensor(\n",
    "  [[0.43, 0.15, 0.89], # Your     (x^1)\n",
    "   [0.55, 0.87, 0.66], # journey  (x^2)\n",
    "   [0.57, 0.85, 0.64], # starts   (x^3)\n",
    "   [0.22, 0.58, 0.33], # with     (x^4)\n",
    "   [0.77, 0.25, 0.10], # one      (x^5)\n",
    "   [0.05, 0.80, 0.55]] # step     (x^6)\n",
    ")"
   ]
  },
  {
   "cell_type": "code",
   "execution_count": 94,
   "metadata": {},
   "outputs": [
    {
     "name": "stdout",
     "output_type": "stream",
     "text": [
      "inputs shape  : torch.Size([6, 3])\n"
     ]
    }
   ],
   "source": [
    "print(f\"inputs shape  : {inputs.shape}\")"
   ]
  },
  {
   "cell_type": "code",
   "execution_count": 95,
   "metadata": {},
   "outputs": [
    {
     "name": "stdout",
     "output_type": "stream",
     "text": [
      "query : tensor([0.5500, 0.8700, 0.6600])\n"
     ]
    },
    {
     "data": {
      "text/plain": [
       "tensor([0.9544, 1.4950, 1.4754, 0.8434, 0.7070, 1.0865])"
      ]
     },
     "execution_count": 95,
     "metadata": {},
     "output_type": "execute_result"
    }
   ],
   "source": [
    "query = inputs[1]\n",
    "print(f\"query : {query}\")\n",
    "attn_scores_2 = torch.empty(inputs.shape[0])\n",
    "for i , x_i in enumerate(inputs):\n",
    "  attn_scores_2[i] = torch.dot(x_i , query)\n",
    "attn_scores_2"
   ]
  },
  {
   "cell_type": "code",
   "execution_count": 96,
   "metadata": {},
   "outputs": [
    {
     "name": "stdout",
     "output_type": "stream",
     "text": [
      "attn scores 2 tmp : tensor([0.1455, 0.2278, 0.2249, 0.1285, 0.1077, 0.1656])\n"
     ]
    }
   ],
   "source": [
    "## normalize attn_scores_2\n",
    "attn_scores_2_tmp = attn_scores_2 / attn_scores_2.sum()\n",
    "print(f\"attn scores 2 tmp : {attn_scores_2_tmp}\")"
   ]
  },
  {
   "cell_type": "code",
   "execution_count": 97,
   "metadata": {},
   "outputs": [
    {
     "name": "stdout",
     "output_type": "stream",
     "text": [
      "exp : tensor([2.5971, 4.4593, 4.3728, 2.3243, 2.0279, 2.9639])\n",
      "Attention weights : tensor([0.1385, 0.2379, 0.2333, 0.1240, 0.1082, 0.1581])\n",
      "Sum : 1.0\n"
     ]
    }
   ],
   "source": [
    "def softmax_naive(x):\n",
    "  return torch.exp(x) / torch.exp(x).sum(dim = 0)\n",
    "print(f\"exp : {torch.exp(attn_scores_2)}\")\n",
    "attn_scores_2_naive = softmax_naive(attn_scores_2)\n",
    "print(f\"Attention weights : { attn_scores_2_naive }\")\n",
    "print(f\"Sum : { attn_scores_2_naive.sum() }\")"
   ]
  },
  {
   "cell_type": "code",
   "execution_count": 98,
   "metadata": {},
   "outputs": [
    {
     "name": "stdout",
     "output_type": "stream",
     "text": [
      "Attention weights :  tensor([0.1385, 0.2379, 0.2333, 0.1240, 0.1082, 0.1581])\n",
      "Sum :  tensor(1.)\n"
     ]
    }
   ],
   "source": [
    "# 请注意，在处理大或小的输入值时，这种简单的软max实现（softmave）可能会遇到数值不稳定问题，如溢出和下流。\n",
    "# 因此，在实践中，建议使用softmax的PyTorch实现，该实现已经对性能进行了广泛的优化：\n",
    "attn_weights_2 = torch.softmax(attn_scores_2 , dim = 0)\n",
    "print(\"Attention weights : \" , attn_weights_2)\n",
    "print(\"Sum : \" , attn_weights_2.sum())"
   ]
  },
  {
   "cell_type": "code",
   "execution_count": 99,
   "metadata": {},
   "outputs": [
    {
     "name": "stdout",
     "output_type": "stream",
     "text": [
      "tensor([0.4419, 0.6515, 0.5683])\n"
     ]
    }
   ],
   "source": [
    "query = inputs[1]\n",
    "context_vec_2 = torch.zeros(query.shape)\n",
    "for i , x_i in enumerate(inputs):\n",
    "  context_vec_2 += attn_weights_2[i] * x_i \n",
    "print(context_vec_2)"
   ]
  },
  {
   "cell_type": "code",
   "execution_count": 100,
   "metadata": {},
   "outputs": [
    {
     "data": {
      "text/plain": [
       "tensor([[0.9995, 0.9544, 0.9422, 0.4753, 0.4576, 0.6310],\n",
       "        [0.9544, 1.4950, 1.4754, 0.8434, 0.7070, 1.0865],\n",
       "        [0.9422, 1.4754, 1.4570, 0.8296, 0.7154, 1.0605],\n",
       "        [0.4753, 0.8434, 0.8296, 0.4937, 0.3474, 0.6565],\n",
       "        [0.4576, 0.7070, 0.7154, 0.3474, 0.6654, 0.2935],\n",
       "        [0.6310, 1.0865, 1.0605, 0.6565, 0.2935, 0.9450]])"
      ]
     },
     "execution_count": 100,
     "metadata": {},
     "output_type": "execute_result"
    }
   ],
   "source": [
    "## 3.3.2 Computing attention weights for all input tokens \n",
    "attn_scores = inputs @ inputs.T \n",
    "attn_scores"
   ]
  },
  {
   "cell_type": "code",
   "execution_count": 101,
   "metadata": {},
   "outputs": [
    {
     "data": {
      "text/plain": [
       "tensor([[0.2098, 0.2006, 0.1981, 0.1242, 0.1220, 0.1452],\n",
       "        [0.1385, 0.2379, 0.2333, 0.1240, 0.1082, 0.1581],\n",
       "        [0.1390, 0.2369, 0.2326, 0.1242, 0.1108, 0.1565],\n",
       "        [0.1435, 0.2074, 0.2046, 0.1462, 0.1263, 0.1720],\n",
       "        [0.1526, 0.1958, 0.1975, 0.1367, 0.1879, 0.1295],\n",
       "        [0.1385, 0.2184, 0.2128, 0.1420, 0.0988, 0.1896]])"
      ]
     },
     "execution_count": 101,
     "metadata": {},
     "output_type": "execute_result"
    }
   ],
   "source": [
    "attn_weights = torch.softmax(attn_scores , dim = -1) \n",
    "attn_weights"
   ]
  },
  {
   "cell_type": "code",
   "execution_count": 102,
   "metadata": {},
   "outputs": [
    {
     "data": {
      "text/plain": [
       "tensor([[0.4421, 0.5931, 0.5790],\n",
       "        [0.4419, 0.6515, 0.5683],\n",
       "        [0.4431, 0.6496, 0.5671],\n",
       "        [0.4304, 0.6298, 0.5510],\n",
       "        [0.4671, 0.5910, 0.5266],\n",
       "        [0.4177, 0.6503, 0.5645]])"
      ]
     },
     "execution_count": 102,
     "metadata": {},
     "output_type": "execute_result"
    }
   ],
   "source": [
    "all_context_vecs = attn_weights @ inputs \n",
    "all_context_vecs"
   ]
  },
  {
   "cell_type": "markdown",
   "metadata": {},
   "source": [
    "## 3.4 implementing self-attention with trainable weights"
   ]
  },
  {
   "cell_type": "code",
   "execution_count": 103,
   "metadata": {},
   "outputs": [
    {
     "data": {
      "text/plain": [
       "3"
      ]
     },
     "execution_count": 103,
     "metadata": {},
     "output_type": "execute_result"
    }
   ],
   "source": [
    "x_2 = inputs[1]\n",
    "d_in = inputs.shape[1]\n",
    "d_out = 2\n",
    "d_in"
   ]
  },
  {
   "cell_type": "code",
   "execution_count": 104,
   "metadata": {},
   "outputs": [
    {
     "data": {
      "text/plain": [
       "(Parameter containing:\n",
       " tensor([[0.2961, 0.5166],\n",
       "         [0.2517, 0.6886],\n",
       "         [0.0740, 0.8665]]),\n",
       " Parameter containing:\n",
       " tensor([[0.1366, 0.1025],\n",
       "         [0.1841, 0.7264],\n",
       "         [0.3153, 0.6871]]),\n",
       " Parameter containing:\n",
       " tensor([[0.0756, 0.1966],\n",
       "         [0.3164, 0.4017],\n",
       "         [0.1186, 0.8274]]))"
      ]
     },
     "execution_count": 104,
     "metadata": {},
     "output_type": "execute_result"
    }
   ],
   "source": [
    "torch.manual_seed(123)\n",
    "\n",
    "W_query = torch.nn.Parameter(torch.rand(d_in ,d_out) , requires_grad = False )\n",
    "W_key = torch.nn.Parameter(torch.rand(d_in , d_out) , requires_grad = False)\n",
    "W_value = torch.nn.Parameter(torch.rand(d_in , d_out) , requires_grad = False)\n",
    "\n",
    "W_query , W_key , W_value"
   ]
  },
  {
   "cell_type": "code",
   "execution_count": 105,
   "metadata": {},
   "outputs": [
    {
     "data": {
      "text/plain": [
       "(tensor([0.4306, 1.4551]), tensor([0.4433, 1.1419]), tensor([0.3951, 1.0037]))"
      ]
     },
     "execution_count": 105,
     "metadata": {},
     "output_type": "execute_result"
    }
   ],
   "source": [
    "query_2 = x_2 @ W_query\n",
    "key_2 = x_2 @ W_key \n",
    "value_2 = x_2 @W_value\n",
    "query_2 , key_2 , value_2"
   ]
  },
  {
   "cell_type": "code",
   "execution_count": 106,
   "metadata": {},
   "outputs": [
    {
     "name": "stdout",
     "output_type": "stream",
     "text": [
      "keys.shape torch.Size([6, 2]) \n",
      "values.shape torch.Size([6, 2]) \n"
     ]
    }
   ],
   "source": [
    "keys = inputs @ W_key \n",
    "values = inputs @ W_value \n",
    "print(f\"keys.shape {keys.shape} \")\n",
    "print(f\"values.shape {values.shape} \")"
   ]
  },
  {
   "cell_type": "code",
   "execution_count": 107,
   "metadata": {},
   "outputs": [
    {
     "data": {
      "text/plain": [
       "tensor(1.8524)"
      ]
     },
     "execution_count": 107,
     "metadata": {},
     "output_type": "execute_result"
    }
   ],
   "source": [
    "keys_2 = keys[1]\n",
    "attn_score_22 = query_2.dot(keys_2)\n",
    "attn_score_22\n"
   ]
  },
  {
   "cell_type": "code",
   "execution_count": 108,
   "metadata": {},
   "outputs": [
    {
     "data": {
      "text/plain": [
       "tensor([1.2705, 1.8524, 1.8111, 1.0795, 0.5577, 1.5440])"
      ]
     },
     "execution_count": 108,
     "metadata": {},
     "output_type": "execute_result"
    }
   ],
   "source": [
    "attn_scores_2 = query_2 @ keys.T \n",
    "attn_scores_2"
   ]
  },
  {
   "cell_type": "code",
   "execution_count": 109,
   "metadata": {},
   "outputs": [
    {
     "data": {
      "text/plain": [
       "tensor([0.1500, 0.2264, 0.2199, 0.1311, 0.0906, 0.1820])"
      ]
     },
     "execution_count": 109,
     "metadata": {},
     "output_type": "execute_result"
    }
   ],
   "source": [
    "d_k = keys.shape[-1]\n",
    "attn_weights_2 = torch.softmax(attn_scores_2 / d_k ** 0.5 , dim= - 1)\n",
    "attn_weights_2"
   ]
  },
  {
   "cell_type": "code",
   "execution_count": 110,
   "metadata": {},
   "outputs": [
    {
     "data": {
      "text/plain": [
       "tensor([0.3061, 0.8210])"
      ]
     },
     "execution_count": 110,
     "metadata": {},
     "output_type": "execute_result"
    }
   ],
   "source": [
    "context_vec_2 = attn_weights_2 @ values \n",
    "context_vec_2"
   ]
  },
  {
   "cell_type": "markdown",
   "metadata": {},
   "source": [
    "## 3.4.2 Implementing a compact self-attention Python class\n"
   ]
  },
  {
   "cell_type": "code",
   "execution_count": 111,
   "metadata": {},
   "outputs": [],
   "source": [
    "import torch.nn as nn \n",
    "class SelfAttention_v1(nn.Module):\n",
    "  def __init__(self , d_in , d_out):\n",
    "    super().__init__() \n",
    "    self.W_query = nn.Parameter(torch.rand(d_in , d_out))\n",
    "    self.W_key = nn.Parameter(torch.rand(d_in , d_out))\n",
    "    self.W_value = nn.Parameter(torch.rand(d_in , d_out))\n",
    "  def forward(self, x):\n",
    "    keys = x @ self.W_key\n",
    "    queries = x @ self.W_query \n",
    "    values = x @ self.W_value\n",
    "    attn_scores  = queries @ keys.T \n",
    "    attn_weights = torch.softmax(attn_scores / (keys.shape[-1] ** 0.5) , dim = -1)\n",
    "    context_vec = attn_weights @ values \n",
    "    return context_vec\n",
    "    "
   ]
  },
  {
   "cell_type": "code",
   "execution_count": 112,
   "metadata": {},
   "outputs": [
    {
     "name": "stdout",
     "output_type": "stream",
     "text": [
      "tensor([[0.2996, 0.8053],\n",
      "        [0.3061, 0.8210],\n",
      "        [0.3058, 0.8203],\n",
      "        [0.2948, 0.7939],\n",
      "        [0.2927, 0.7891],\n",
      "        [0.2990, 0.8040]], grad_fn=<MmBackward0>)\n"
     ]
    }
   ],
   "source": [
    "torch.manual_seed(123)\n",
    "sa_v1 = SelfAttention_v1(d_in, d_out)\n",
    "print(sa_v1(inputs))"
   ]
  },
  {
   "cell_type": "code",
   "execution_count": 113,
   "metadata": {},
   "outputs": [
    {
     "data": {
      "text/plain": [
       "tensor([[-0.0739,  0.0713],\n",
       "        [-0.0748,  0.0703],\n",
       "        [-0.0749,  0.0702],\n",
       "        [-0.0760,  0.0685],\n",
       "        [-0.0763,  0.0679],\n",
       "        [-0.0754,  0.0693]], grad_fn=<MmBackward0>)"
      ]
     },
     "execution_count": 113,
     "metadata": {},
     "output_type": "execute_result"
    }
   ],
   "source": [
    "class SelfAttention_v2(nn.Module):\n",
    "  def __init__(self , d_in , d_out , qkv_bias = False):\n",
    "    super().__init__()\n",
    "    self.W_query = nn.Linear(d_in, d_out , bias=qkv_bias)\n",
    "    self.W_key = nn.Linear(d_in , d_out ,bias=qkv_bias)\n",
    "    self.W_value = nn.Linear(d_in , d_out , bias=qkv_bias)\n",
    "  \n",
    "  def forward(self , x):\n",
    "    keys = self.W_key(x)\n",
    "    queries = self.W_query(x) \n",
    "    values = self.W_value(x) \n",
    "    attn_scores = queries @ keys.T \n",
    "    attn_weights = torch.softmax(attn_scores / keys.shape[-1] ** 0.5 , dim=-1)\n",
    "    context_vec = attn_weights @ values \n",
    "    return context_vec \n",
    "torch.manual_seed(789)\n",
    "sa_v2 = SelfAttention_v2(d_in , d_out)\n",
    "sa_v2(inputs)"
   ]
  },
  {
   "cell_type": "code",
   "execution_count": 114,
   "metadata": {},
   "outputs": [
    {
     "name": "stdout",
     "output_type": "stream",
     "text": [
      "tensor([[0.1921, 0.1646, 0.1652, 0.1550, 0.1721, 0.1510],\n",
      "        [0.2041, 0.1659, 0.1662, 0.1496, 0.1665, 0.1477],\n",
      "        [0.2036, 0.1659, 0.1662, 0.1498, 0.1664, 0.1480],\n",
      "        [0.1869, 0.1667, 0.1668, 0.1571, 0.1661, 0.1564],\n",
      "        [0.1830, 0.1669, 0.1670, 0.1588, 0.1658, 0.1585],\n",
      "        [0.1935, 0.1663, 0.1666, 0.1542, 0.1666, 0.1529]],\n",
      "       grad_fn=<SoftmaxBackward0>)\n"
     ]
    }
   ],
   "source": [
    "# Reuse the query and key weight matrices of the\n",
    "# SelfAttention_v2 object from the previous section for convenience\n",
    "queries = sa_v2.W_query(inputs)\n",
    "keys = sa_v2.W_key(inputs) \n",
    "attn_scores = queries @ keys.T\n",
    "\n",
    "attn_weights = torch.softmax(attn_scores / keys.shape[-1]**0.5, dim=-1)\n",
    "print(attn_weights)"
   ]
  },
  {
   "cell_type": "code",
   "execution_count": 115,
   "metadata": {},
   "outputs": [
    {
     "data": {
      "text/plain": [
       "tensor([[1., 0., 0., 0., 0., 0.],\n",
       "        [1., 1., 0., 0., 0., 0.],\n",
       "        [1., 1., 1., 0., 0., 0.],\n",
       "        [1., 1., 1., 1., 0., 0.],\n",
       "        [1., 1., 1., 1., 1., 0.],\n",
       "        [1., 1., 1., 1., 1., 1.]])"
      ]
     },
     "execution_count": 115,
     "metadata": {},
     "output_type": "execute_result"
    }
   ],
   "source": [
    "context_length = attn_scores.shape[0]\n",
    "mask_simple = torch.tril(torch.ones(context_length , context_length))\n",
    "mask_simple"
   ]
  },
  {
   "cell_type": "code",
   "execution_count": 116,
   "metadata": {},
   "outputs": [
    {
     "data": {
      "text/plain": [
       "tensor([[0.1921, 0.0000, 0.0000, 0.0000, 0.0000, 0.0000],\n",
       "        [0.2041, 0.1659, 0.0000, 0.0000, 0.0000, 0.0000],\n",
       "        [0.2036, 0.1659, 0.1662, 0.0000, 0.0000, 0.0000],\n",
       "        [0.1869, 0.1667, 0.1668, 0.1571, 0.0000, 0.0000],\n",
       "        [0.1830, 0.1669, 0.1670, 0.1588, 0.1658, 0.0000],\n",
       "        [0.1935, 0.1663, 0.1666, 0.1542, 0.1666, 0.1529]],\n",
       "       grad_fn=<MulBackward0>)"
      ]
     },
     "execution_count": 116,
     "metadata": {},
     "output_type": "execute_result"
    }
   ],
   "source": [
    "masked_simple = attn_weights * mask_simple \n",
    "masked_simple"
   ]
  },
  {
   "cell_type": "code",
   "execution_count": 117,
   "metadata": {},
   "outputs": [
    {
     "name": "stdout",
     "output_type": "stream",
     "text": [
      "tensor([[1.0000, 0.0000, 0.0000, 0.0000, 0.0000, 0.0000],\n",
      "        [0.5517, 0.4483, 0.0000, 0.0000, 0.0000, 0.0000],\n",
      "        [0.3800, 0.3097, 0.3103, 0.0000, 0.0000, 0.0000],\n",
      "        [0.2758, 0.2460, 0.2462, 0.2319, 0.0000, 0.0000],\n",
      "        [0.2175, 0.1983, 0.1984, 0.1888, 0.1971, 0.0000],\n",
      "        [0.1935, 0.1663, 0.1666, 0.1542, 0.1666, 0.1529]],\n",
      "       grad_fn=<DivBackward0>)\n"
     ]
    }
   ],
   "source": [
    "# normalize mask \n",
    "row_sums = masked_simple.sum(dim=-1, keepdim = True) \n",
    "masked_simple_norm = masked_simple/row_sums \n",
    "print(masked_simple_norm)"
   ]
  },
  {
   "cell_type": "code",
   "execution_count": 118,
   "metadata": {},
   "outputs": [
    {
     "data": {
      "text/plain": [
       "tensor([[0., 1., 1., 1., 1., 1.],\n",
       "        [0., 0., 1., 1., 1., 1.],\n",
       "        [0., 0., 0., 1., 1., 1.],\n",
       "        [0., 0., 0., 0., 1., 1.],\n",
       "        [0., 0., 0., 0., 0., 1.],\n",
       "        [0., 0., 0., 0., 0., 0.]])"
      ]
     },
     "execution_count": 118,
     "metadata": {},
     "output_type": "execute_result"
    }
   ],
   "source": [
    "mask = torch.triu(torch.ones(context_length, context_length), diagonal=1)\n",
    "mask"
   ]
  },
  {
   "cell_type": "code",
   "execution_count": 119,
   "metadata": {},
   "outputs": [
    {
     "data": {
      "text/plain": [
       "tensor([[0.2899,   -inf,   -inf,   -inf,   -inf,   -inf],\n",
       "        [0.4656, 0.1723,   -inf,   -inf,   -inf,   -inf],\n",
       "        [0.4594, 0.1703, 0.1731,   -inf,   -inf,   -inf],\n",
       "        [0.2642, 0.1024, 0.1036, 0.0186,   -inf,   -inf],\n",
       "        [0.2183, 0.0874, 0.0882, 0.0177, 0.0786,   -inf],\n",
       "        [0.3408, 0.1270, 0.1290, 0.0198, 0.1290, 0.0078]],\n",
       "       grad_fn=<MaskedFillBackward0>)"
      ]
     },
     "execution_count": 119,
     "metadata": {},
     "output_type": "execute_result"
    }
   ],
   "source": [
    "masked = attn_scores.masked_fill(mask.bool() , -torch.inf)\n",
    "masked"
   ]
  },
  {
   "cell_type": "code",
   "execution_count": 120,
   "metadata": {},
   "outputs": [
    {
     "data": {
      "text/plain": [
       "tensor([[1.0000, 0.0000, 0.0000, 0.0000, 0.0000, 0.0000],\n",
       "        [0.5517, 0.4483, 0.0000, 0.0000, 0.0000, 0.0000],\n",
       "        [0.3800, 0.3097, 0.3103, 0.0000, 0.0000, 0.0000],\n",
       "        [0.2758, 0.2460, 0.2462, 0.2319, 0.0000, 0.0000],\n",
       "        [0.2175, 0.1983, 0.1984, 0.1888, 0.1971, 0.0000],\n",
       "        [0.1935, 0.1663, 0.1666, 0.1542, 0.1666, 0.1529]],\n",
       "       grad_fn=<SoftmaxBackward0>)"
      ]
     },
     "execution_count": 120,
     "metadata": {},
     "output_type": "execute_result"
    }
   ],
   "source": [
    "attn_weights = torch.softmax(masked / keys.shape[-1] ** 0.5 , dim = 1)\n",
    "attn_weights"
   ]
  },
  {
   "cell_type": "markdown",
   "metadata": {},
   "source": [
    "## 3.5.2 Masking additional attention weights with dropout"
   ]
  },
  {
   "cell_type": "code",
   "execution_count": 121,
   "metadata": {},
   "outputs": [
    {
     "data": {
      "text/plain": [
       "tensor([[2., 2., 2., 2., 2., 2.],\n",
       "        [0., 2., 0., 0., 0., 0.],\n",
       "        [0., 0., 2., 0., 2., 0.],\n",
       "        [2., 2., 0., 0., 0., 2.],\n",
       "        [2., 0., 0., 0., 0., 2.],\n",
       "        [0., 2., 0., 0., 0., 0.]])"
      ]
     },
     "execution_count": 121,
     "metadata": {},
     "output_type": "execute_result"
    }
   ],
   "source": [
    "torch.manual_seed(123)\n",
    "dropout = torch.nn.Dropout(0.5)\n",
    "example = torch.ones(6,6)\n",
    "dropout(example)"
   ]
  },
  {
   "cell_type": "markdown",
   "metadata": {},
   "source": [
    "## 3.5.3 Implementing a compact causal self-attention class\n"
   ]
  },
  {
   "cell_type": "code",
   "execution_count": 122,
   "metadata": {},
   "outputs": [],
   "source": [
    "class CausalAttention(nn.Module):\n",
    "  def __init__(self , d_in ,d_out , context_length , dropout , qkv_bias = False):\n",
    "    super().__init__()\n",
    "    self.d_out = d_out\n",
    "    self.W_query = nn.Linear(d_in , d_out , bias = qkv_bias)\n",
    "    self.W_key = nn.Linear(d_in , d_out , bias=qkv_bias)\n",
    "    self.W_value = nn.Linear(d_in , d_out , bias = qkv_bias)\n",
    "    self.dropout = nn.Dropout(dropout)\n",
    "    self.register_buffer('mask', torch.triu(torch.ones(context_length, context_length), diagonal=1)) # New\n",
    "    \n",
    "  def forward(self , x) : \n",
    "    b,num_tokens,d_in = x.shape\n",
    "    keys = self.W_key(x)\n",
    "    queries = self.W_query(x)\n",
    "    values = self.W_value(x)\n",
    "    attn_scores = queries @ keys.transpose(1,2)\n",
    "    attn_scores.masked_fill_(self.mask.bool()[:num_tokens , :num_tokens] , -torch.inf)\n",
    "    attn_weights = torch.softmax(attn_scores/keys.shape[-1] ** 0.5 , dim = -1)\n",
    "    attn_weights = self.dropout(attn_weights)\n",
    "    context_vec = attn_weights @ values \n",
    "    return context_vec"
   ]
  },
  {
   "cell_type": "code",
   "execution_count": 123,
   "metadata": {},
   "outputs": [
    {
     "data": {
      "text/plain": [
       "torch.Size([2, 6, 3])"
      ]
     },
     "execution_count": 123,
     "metadata": {},
     "output_type": "execute_result"
    }
   ],
   "source": [
    "batch = torch.stack((inputs, inputs) , dim = 0) \n",
    "batch.shape"
   ]
  },
  {
   "cell_type": "code",
   "execution_count": 125,
   "metadata": {},
   "outputs": [
    {
     "data": {
      "text/plain": [
       "tensor([[[-0.4519,  0.2216],\n",
       "         [-0.5874,  0.0058],\n",
       "         [-0.6300, -0.0632],\n",
       "         [-0.5675, -0.0843],\n",
       "         [-0.5526, -0.0981],\n",
       "         [-0.5299, -0.1081]],\n",
       "\n",
       "        [[-0.4519,  0.2216],\n",
       "         [-0.5874,  0.0058],\n",
       "         [-0.6300, -0.0632],\n",
       "         [-0.5675, -0.0843],\n",
       "         [-0.5526, -0.0981],\n",
       "         [-0.5299, -0.1081]]], grad_fn=<UnsafeViewBackward0>)"
      ]
     },
     "execution_count": 125,
     "metadata": {},
     "output_type": "execute_result"
    }
   ],
   "source": [
    "torch.manual_seed(123)\n",
    "context_length = batch.shape[1]\n",
    "ca = CausalAttention(d_in , d_out , context_length , 0.0)\n",
    "context_vecs = ca(batch)\n",
    "context_vecs"
   ]
  },
  {
   "cell_type": "code",
   "execution_count": 126,
   "metadata": {},
   "outputs": [
    {
     "data": {
      "text/plain": [
       "(tensor([[[-0.4519,  0.2216,  0.4772,  0.1063],\n",
       "          [-0.5874,  0.0058,  0.5891,  0.3257],\n",
       "          [-0.6300, -0.0632,  0.6202,  0.3860],\n",
       "          [-0.5675, -0.0843,  0.5478,  0.3589],\n",
       "          [-0.5526, -0.0981,  0.5321,  0.3428],\n",
       "          [-0.5299, -0.1081,  0.5077,  0.3493]],\n",
       " \n",
       "         [[-0.4519,  0.2216,  0.4772,  0.1063],\n",
       "          [-0.5874,  0.0058,  0.5891,  0.3257],\n",
       "          [-0.6300, -0.0632,  0.6202,  0.3860],\n",
       "          [-0.5675, -0.0843,  0.5478,  0.3589],\n",
       "          [-0.5526, -0.0981,  0.5321,  0.3428],\n",
       "          [-0.5299, -0.1081,  0.5077,  0.3493]]], grad_fn=<CatBackward0>),\n",
       " torch.Size([2, 6, 4]))"
      ]
     },
     "execution_count": 126,
     "metadata": {},
     "output_type": "execute_result"
    }
   ],
   "source": [
    "class MultiHeadAttentionWrapper(nn.Module):\n",
    "  def __init__(self , d_in , d_out , context_length , dropout , num_heads , qkv_bias = False):\n",
    "    super().__init__() \n",
    "    self.heads = nn.ModuleList([CausalAttention(d_in, d_out, context_length, dropout, qkv_bias) for _ in range(num_heads)])\n",
    "  def forward(self , x):\n",
    "    return torch.cat([head(x) for head in self.heads] , dim = -1)\n",
    "torch.manual_seed(123)\n",
    "context_length = batch.shape[1]\n",
    "d_in ,d_out = 3, 2 \n",
    "mha = MultiHeadAttentionWrapper(d_in , d_out , context_length , 0.0 , num_heads = 2)\n",
    "context_vecs = mha(batch)\n",
    "\n",
    "context_vecs , context_vecs.shape"
   ]
  },
  {
   "cell_type": "markdown",
   "metadata": {},
   "source": [
    "## 3.6.2 Implementing Multi-head attention with weight splits"
   ]
  },
  {
   "cell_type": "code",
   "execution_count": 141,
   "metadata": {},
   "outputs": [
    {
     "name": "stdout",
     "output_type": "stream",
     "text": [
      "  batch_size : 2\n",
      "          context_length : 6\n",
      "          d_in : 3\n",
      "      \n",
      "a keys.shape : torch.Size([2, 6, 8])\n",
      "b keys.shape : torch.Size([2, 6, 2, 4])\n",
      "c keys.shape : torch.Size([2, 2, 6, 4])\n",
      "d keys transpose 2, 3 : torch.Size([2, 2, 4, 6])\n",
      "attn_scores shape : torch.Size([2, 2, 6, 6])\n"
     ]
    },
    {
     "data": {
      "text/plain": [
       "(tensor([[[-0.1104,  0.4233,  0.2161, -0.0538, -0.4375,  0.2721, -0.2500,\n",
       "            0.1410],\n",
       "          [-0.0622,  0.4386,  0.3206,  0.0134, -0.4027,  0.2909, -0.2016,\n",
       "            0.1826],\n",
       "          [-0.0461,  0.4419,  0.3550,  0.0376, -0.3871,  0.2963, -0.1852,\n",
       "            0.1971],\n",
       "          [-0.0346,  0.3903,  0.3268,  0.0377, -0.3397,  0.2631, -0.1570,\n",
       "            0.1769],\n",
       "          [-0.0206,  0.3577,  0.3125,  0.0651, -0.2797,  0.2419, -0.1338,\n",
       "            0.1775],\n",
       "          [-0.0211,  0.3487,  0.3074,  0.0511, -0.2878,  0.2363, -0.1302,\n",
       "            0.1669]],\n",
       " \n",
       "         [[-0.1104,  0.4233,  0.2161, -0.0538, -0.4375,  0.2721, -0.2500,\n",
       "            0.1410],\n",
       "          [-0.0622,  0.4386,  0.3206,  0.0134, -0.4027,  0.2909, -0.2016,\n",
       "            0.1826],\n",
       "          [-0.0461,  0.4419,  0.3550,  0.0376, -0.3871,  0.2963, -0.1852,\n",
       "            0.1971],\n",
       "          [-0.0346,  0.3903,  0.3268,  0.0377, -0.3397,  0.2631, -0.1570,\n",
       "            0.1769],\n",
       "          [-0.0206,  0.3577,  0.3125,  0.0651, -0.2797,  0.2419, -0.1338,\n",
       "            0.1775],\n",
       "          [-0.0211,  0.3487,  0.3074,  0.0511, -0.2878,  0.2363, -0.1302,\n",
       "            0.1669]]], grad_fn=<UnsafeViewBackward0>),\n",
       " torch.Size([2, 6, 8]))"
      ]
     },
     "execution_count": 141,
     "metadata": {},
     "output_type": "execute_result"
    }
   ],
   "source": [
    "class MultiHeadAttention(nn.Module):\n",
    "  def __init__(self, d_in ,d_out , context_length , dropout , num_heads , qkv_bias = False):\n",
    "    super().__init__()\n",
    "    assert (d_out % num_heads == 0), \\\n",
    "            \"d_out must be divisible by num_heads\"\n",
    "    self.d_out = d_out \n",
    "    self.num_heads = num_heads \n",
    "    self.head_dim = d_out // num_heads \n",
    "    self.W_query = nn.Linear(d_in , d_out , bias = qkv_bias)\n",
    "    self.W_key = nn.Linear(d_in , d_out , bias = qkv_bias)\n",
    "    self.W_value = nn.Linear(d_in , d_out , bias = qkv_bias)\n",
    "    self.out_proj = nn.Linear(d_out , d_out , bias = qkv_bias)\n",
    "    self.dropout = nn.Dropout(dropout)\n",
    "    self.register_buffer(\"mask\" , torch.triu(torch.ones(context_length , context_length) , diagonal= 1))\n",
    "  \n",
    "  def forward(self , x):\n",
    "    b, num_tokens , d_in = x.shape\n",
    "    keys = self.W_key(x) \n",
    "    queries = self.W_query(x)\n",
    "    values = self.W_value(x)\n",
    "    print(f\"a keys.shape : {keys.shape}\")\n",
    "    # We implicitly split the matrix by adding a `num_heads` dimension\n",
    "    # Unroll last dim: (b, num_tokens, d_out) -> (b, num_tokens, num_heads, head_dim)\n",
    "    keys = keys.view(b, num_tokens, self.num_heads, self.head_dim) \n",
    "    print(f\"b keys.shape : {keys.shape}\")\n",
    "    values = values.view(b, num_tokens, self.num_heads, self.head_dim)\n",
    "    queries = queries.view(b, num_tokens, self.num_heads, self.head_dim)\n",
    "    \n",
    "    keys = keys.transpose(1,2)\n",
    "    print(f\"c keys.shape : {keys.shape}\")\n",
    "    queries = queries.transpose(1,2)\n",
    "    values = values.transpose(1,2)\n",
    "    \n",
    "    attn_scores = queries @ keys.transpose(2,3)\n",
    "    print(f\"d keys transpose 2, 3 : {keys.transpose(2,3).shape}\")\n",
    "    print(f\"attn_scores shape : {attn_scores.shape}\")\n",
    "    mask_bool = self.mask.bool()[:num_tokens,:num_tokens]\n",
    "    attn_scores.masked_fill_(mask_bool , -torch.inf)\n",
    "    attn_weights = torch.softmax(attn_scores / keys.shape[-1] * 0.5 , dim = -1)\n",
    "    context_vec = (attn_weights @ values).transpose(1,2)\n",
    "    context_vec = context_vec.contiguous().view(\n",
    "      b, num_tokens, self.d_out\n",
    "    )\n",
    "    context_vec = self.out_proj(context_vec)\n",
    "    return context_vec\n",
    "    \n",
    "    \n",
    "torch.manual_seed(123)\n",
    "batch_size , context_length , d_in = batch.shape \n",
    "print(f\"\"\"  batch_size : {batch_size}\n",
    "          context_length : {context_length}\n",
    "          d_in : {d_in}\n",
    "      \"\"\")\n",
    "d_out = 2 \n",
    "mha = MultiHeadAttention(d_in , d_out , context_length , 0.0 , num_heads = 2)\n",
    "context_vecs = mha(batch)\n",
    "context_vecs , context_vecs.shape"
   ]
  },
  {
   "cell_type": "code",
   "execution_count": null,
   "metadata": {},
   "outputs": [],
   "source": []
  }
 ],
 "metadata": {
  "kernelspec": {
   "display_name": "build-llm",
   "language": "python",
   "name": "python3"
  },
  "language_info": {
   "codemirror_mode": {
    "name": "ipython",
    "version": 3
   },
   "file_extension": ".py",
   "mimetype": "text/x-python",
   "name": "python",
   "nbconvert_exporter": "python",
   "pygments_lexer": "ipython3",
   "version": "3.12.8"
  }
 },
 "nbformat": 4,
 "nbformat_minor": 2
}
